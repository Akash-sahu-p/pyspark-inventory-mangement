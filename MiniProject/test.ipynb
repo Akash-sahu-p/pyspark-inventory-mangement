{
 "cells": [
  {
   "cell_type": "code",
   "execution_count": 2,
   "id": "c2ceba29-7137-4a6b-b219-9113ef5fc1ac",
   "metadata": {},
   "outputs": [
    {
     "name": "stdout",
     "output_type": "stream",
     "text": [
      "+----------+------------+\n",
      "|Department|Total Salary|\n",
      "+----------+------------+\n",
      "|        HR|        5500|\n",
      "|        IT|        9500|\n",
      "|   Finance|        4000|\n",
      "+----------+------------+\n",
      "\n"
     ]
    }
   ],
   "source": [
    "from pyspark.sql import SparkSession\n",
    "from pyspark.sql.functions import sum\n",
    "\n",
    "# Create a Spark session\n",
    "spark = SparkSession.builder.appName(\"GroupBy Sum Example\").getOrCreate()\n",
    "\n",
    "# Sample data\n",
    "data = [\n",
    "    (\"HR\", \"Alice\", 3000),\n",
    "    (\"HR\", \"Bob\", 2500),\n",
    "    (\"IT\", \"Charlie\", 5000),\n",
    "    (\"IT\", \"David\", 4500),\n",
    "    (\"Finance\", \"Eve\", 4000)\n",
    "]\n",
    "\n",
    "# Create a DataFrame\n",
    "df = spark.createDataFrame(data, [\"Department\", \"Employee\", \"Salary\"])\n",
    "\n",
    "# Group by the 'Department' column and calculate the total salary for each department\n",
    "grouped_df = df.groupBy(\"Department\").agg(sum(\"Salary\").alias(\"Total Salary\"))\n",
    "\n",
    "# Show the result\n",
    "grouped_df.show()\n",
    "\n",
    "# Stop the Spark session\n",
    "# spark.stop()\n"
   ]
  },
  {
   "cell_type": "code",
   "execution_count": 3,
   "id": "82d78a2b-38c9-4613-852f-b617ecc15c80",
   "metadata": {},
   "outputs": [
    {
     "name": "stdout",
     "output_type": "stream",
     "text": [
      "+----------+------------+\n",
      "|Department|Total Salary|\n",
      "+----------+------------+\n",
      "|        IT|        9500|\n",
      "|        HR|        5500|\n",
      "|   Finance|        4000|\n",
      "+----------+------------+\n",
      "\n"
     ]
    }
   ],
   "source": [
    "grouped_df = df.groupBy(\"Department\") \\\n",
    "               .agg(sum(\"Salary\").alias(\"Total Salary\")) \\\n",
    "               .orderBy(\"Total Salary\", ascending=False)\n",
    "\n",
    "# Show the result\n",
    "grouped_df.show()\n"
   ]
  },
  {
   "cell_type": "code",
   "execution_count": null,
   "id": "43770285-af77-42e1-a52d-ce511d66b468",
   "metadata": {},
   "outputs": [],
   "source": []
  }
 ],
 "metadata": {
  "kernelspec": {
   "display_name": "Python 3 (ipykernel)",
   "language": "python",
   "name": "python3"
  },
  "language_info": {
   "codemirror_mode": {
    "name": "ipython",
    "version": 3
   },
   "file_extension": ".py",
   "mimetype": "text/x-python",
   "name": "python",
   "nbconvert_exporter": "python",
   "pygments_lexer": "ipython3",
   "version": "3.11.4"
  }
 },
 "nbformat": 4,
 "nbformat_minor": 5
}
