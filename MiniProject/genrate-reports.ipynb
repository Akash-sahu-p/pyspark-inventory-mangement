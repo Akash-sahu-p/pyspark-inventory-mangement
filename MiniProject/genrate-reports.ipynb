{
 "cells": [
  {
   "cell_type": "code",
   "execution_count": 39,
   "id": "e2954638-4466-447e-acbb-719a3cb8e66c",
   "metadata": {},
   "outputs": [],
   "source": [
    "from pyspark.sql import SparkSession\n",
    "from pyspark.sql.window import Window\n",
    "from pyspark.sql.functions import rank, col, monotonically_increasing_id, row_number\n",
    "from pyspark.sql.functions import sum, col,avg,count,upper,round\n",
    "import os"
   ]
  },
  {
   "cell_type": "code",
   "execution_count": 5,
   "id": "64a21fa0-8f8c-4ee6-a432-d4644f5c496b",
   "metadata": {},
   "outputs": [],
   "source": [
    "spark = SparkSession.builder \\\n",
    "    .appName(\"Reports Generation\") \\\n",
    "    .getOrCreate()"
   ]
  },
  {
   "cell_type": "code",
   "execution_count": 65,
   "id": "e8535d75-fad4-4bd6-b083-2c0136a230f6",
   "metadata": {},
   "outputs": [
    {
     "name": "stdout",
     "output_type": "stream",
     "text": [
      "C:\\akash_sahu\\MiniProject\n"
     ]
    }
   ],
   "source": [
    "print(os.getcwd())\n",
    "\n",
    "output_dir = \"output-reports\"\n",
    "if not os.path.exists(output_dir):\n",
    "    os.makedirs(output_dir)"
   ]
  },
  {
   "cell_type": "code",
   "execution_count": 53,
   "id": "b2c1ff89-b812-43ad-9c9c-a41571b62e57",
   "metadata": {},
   "outputs": [],
   "source": [
    "# Load the Dimension and Fact tables\n",
    "customers_dim = spark.read.csv(\"output/customers_dim.csv\", header=True, inferSchema=True)\n",
    "products_dim = spark.read.csv(\"output/products_dim.csv\", header=True, inferSchema=True)\n",
    "sellers_dim = spark.read.csv(\"output/sellers_dim.csv\", header=True, inferSchema=True)\n",
    "time_dim = spark.read.csv(\"output/time_dim.csv\", header=True, inferSchema=True)\n",
    "transaction_dim = spark.read.csv(\"output/transaction_dim.csv\", header=True, inferSchema=True)\n",
    "inventory_fact = spark.read.csv(\"output/inventory_fact.csv\", header=True, inferSchema=True)"
   ]
  },
  {
   "cell_type": "code",
   "execution_count": 54,
   "id": "d14d6cc6-1be3-44a9-8a85-c39566761306",
   "metadata": {},
   "outputs": [
    {
     "name": "stdout",
     "output_type": "stream",
     "text": [
      "+---------------+-----------+------------------+-----------------+-----------------------+-------------+--------------+------------+-----------------+\n",
      "|CUSTOMER_DIM_ID|CUSTOMER_ID|     Customer Name|CUSTOMER_LOGIN_ID|CUSTOMER_STREET_ADDRESS|CUSTOMER_CITY|CUSTOMER_STATE|CUSTOMER_ZIP|CUSTOMER_PHONE_NO|\n",
      "+---------------+-----------+------------------+-----------------+-----------------------+-------------+--------------+------------+-----------------+\n",
      "|              1|     100078|     Caldwell Wade|             5078|   216-4377 Semper, St.|     COLUMBUS|          OHIO|       94154|     027-779-9608|\n",
      "|              2|     100003|       Fritz Grant|             5003|   Ap #897-7736 Eges...| PHILADELPHIA|  PENNSYLVANIA|       65342|     029-197-3614|\n",
      "|              3|     100082|    Graiden Oneill|             5082|   P.O. Box 708, 751...|       BOSTON|MASSAACHUSETTS|       95485|     011-485-6145|\n",
      "|              4|     100040|       Caryn Doyle|             5040|      3258 Massa Avenue|     NEW YORK|       NEWYORK|       92424|     090-909-0118|\n",
      "|              5|     100005|      Tatyana Ball|             5005|   Ap #422-2469 Eget...|      HOUSTON|         TEXAS|       63842|     093-567-5411|\n",
      "|              6|     100097|   Ignatius Mercer|             5097|   366-698 Auctor, A...|      PHOENIX|       ARIZONA|       98187|     017-928-0125|\n",
      "|              7|     100083|   Danielle Wilcox|             5083|   7967 Lobortis. St...| PHILADELPHIA|  PENNSYLVANIA|       84107|     025-225-3040|\n",
      "|              8|     100010|    Clio Middleton|             5010|   P.O. Box 780, 390...| PHILADELPHIA|  PENNSYLVANIA|       63859|     075-516-4398|\n",
      "|              9|     100022|     Angelica Lamb|             5022|   AP #580-4729 Cras...|     COLUMBUS|          OHIO|       53848|     065-434-0244|\n",
      "|             10|     100084|      Ebony Durham|             5084|           9214 Ac, Ave|    SAN DIEGO|    CALIFORNIA|       76584|     003-620-6495|\n",
      "|             11|     100024|    Dora Zimmerman|             5024|   Ap #386-1113 Dign...|      CHICAGO|      ILLINOIS|       73494|     003-363-9672|\n",
      "|             12|     100057|      Edward Lopez|             5057|   P.O. Box 523, 732...|      PHOENIX|       ARIZONA|       53765|     032-378-8856|\n",
      "|             13|     100021|       Nora Stuart|             5021|     7794 Elementum Av.|      HOUSTON|         TEXAS|       79987|     008-962-2784|\n",
      "|             14|     100072|     Ayanna Riddle|             5072|   Ap #865-2255 Viva...|     COLUMBUS|          OHIO|       96602|     069-671-4776|\n",
      "|             15|     100015|  Timothy Mcdonald|             5015|   P.O. Box 972, 404...|    SAN DIEGO|    CALIFORNIA|       59167|     019-408-7488|\n",
      "|             16|     100045|    Darryl Ramirez|             5045|         425-9230 A Av.|  Los Angeles|    California|       72180|     013-892-4548|\n",
      "|             17|     100002|  Chantale Gardner|             5002|           9257 Et, Rd.|  LOS ANGELES|    CALIFORNIA|       58854|     063-786-7948|\n",
      "|             18|     100058|      Chase Alston|             5058|   P.O. Box 389,2586...|SAN FRANSISCO|    California|       71401|     066-278-8493|\n",
      "|             19|     100098|       Shaine Good|             5098|   P.O. Box 161, 468...|    SAN DIEGO|    CALIFORNIA|       71455|     057-662-4801|\n",
      "|             20|     100032|Clinton Valenzuela|             5032|     8114 Imperdiet Av.|  Los Angeles|    California|       61854|     007-980-5252|\n",
      "+---------------+-----------+------------------+-----------------+-----------------------+-------------+--------------+------------+-----------------+\n",
      "only showing top 20 rows\n",
      "\n",
      "+--------------+----------+-----------+------------+-------------+----------------+-------------+\n",
      "|PRODUCT_DIM_ID|PRODUCT_ID|CATEGORY_ID|PRODUCT Name|PRODUCT Brand|Product Model No|PRODUCT_STOCK|\n",
      "+--------------+----------+-----------+------------+-------------+----------------+-------------+\n",
      "|             1|      3005|       4005|      LAPTOP|           HP|            4620|            1|\n",
      "|             2|      3093|       4005|      LAPTOP|      TOSHIBA|            4978|            1|\n",
      "|             3|      3047|       4004|  TELEVISION|      PHILIPS|            4500|            0|\n",
      "|             4|      3073|       4006|    PENDRIVE|      SANDISK|            9457|            1|\n",
      "|             5|      3033|       4007|   EARPHONES|         SONY|           11456|            1|\n",
      "|             6|      3022|       4004|  TELEVISION|           LG|            4950|            1|\n",
      "|             7|      3094|       4006|    PENDRIVE|     KINGSTON|            9965|            0|\n",
      "|             8|      3074|       4007|   EARPHONES|        BEATS|           11446|            0|\n",
      "|             9|      3015|       4002|         BAG|         PUMA|           31330|            0|\n",
      "|            10|      3086|       4004|  TELEVISION|      SAMSUNG|            4445|            1|\n",
      "|            11|      3081|       4007|   EARPHONES|        BEATS|           17890|            0|\n",
      "|            12|      3069|       4007|   EARPHONES|         BOSE|           11460|            0|\n",
      "|            13|      3054|       4006|    PENDRIVE|    MOSERBAER|            9750|            1|\n",
      "|            14|      3039|       4007|   EARPHONES|          JBL|           11450|            1|\n",
      "|            15|      3072|       4008|  DVD PLAYER|        ONIDA|            2360|            1|\n",
      "|            16|      3080|       4001|       SHOES|       REEBOK|           21340|            1|\n",
      "|            17|      3079|       4001|       SHOES|       REEBOK|           24580|            0|\n",
      "|            18|      3017|       4008|  DVD PLAYER|        ONIDA|            2800|            0|\n",
      "|            19|      3025|       4000|      CAMERA|        SONY |            1760|            0|\n",
      "|            20|      3056|       4005|      LAPTOP|         DELL|            4789|            1|\n",
      "+--------------+----------+-----------+------------+-------------+----------------+-------------+\n",
      "only showing top 20 rows\n",
      "\n",
      "+-------------+---------+----------------+-------------+---------------------+-----------+--------------------+----------+---------------+\n",
      "|SELLER_DIM_ID|SELLER_ID|     SELLER_NAME|SELLER_RATING|SELLER_STREET_ADDRESS|SELLER_CITY|        SELLER_STATE|SELLER_ZIP|SELLER_PHONE_NO|\n",
      "+-------------+---------+----------------+-------------+---------------------+-----------+--------------------+----------+---------------+\n",
      "|            1|   200046|    Leroy Conner|            5| P.O. Box 965, 585...|      BREST|            BRITTANY|     76254| 08 90 52 61 56|\n",
      "|            2|   200020|   Basia Nielsen|            4| Ap #755-3390 Semp...|      TOURS|              CENTRE|     80874| 03 11 73 89 94|\n",
      "|            3|   200091|    Leo Atkinson|            4|  134-8687 Primis St.|      BREST|            BRITTANY|     81059| 06 56 07 84 00|\n",
      "|            4|   200089|  Deborah Wooten|            5|      7708 Lorem, Rd.|       LYON|         RHONE-ALPES|     58575| 01 15 87 00 65|\n",
      "|            5|   200011|   Jescie Kelley|            2|       2332 Risus Ave|   LE  MANS|    PAYS DE LA LOIRE|     79306| 05 97 51 95 35|\n",
      "|            6|   200010|    Bert Delgado|            1| P.O. Box 300, 879...|      NIMES|LANGUEDOC-ROUSSILLON|     94978| 02 36 21 21 68|\n",
      "|            7|   200038|        Bo Curry|            2|  392-5160 At, Street|      DIJON|           BOURGOGNE|     73038| 05 34 20 09 53|\n",
      "|            8|   200018|       Cara Mays|            5| P.O. Box 672, 698...|   GRENOBLE|         RHONE-ALPES|     72207| 02 62 79 33 75|\n",
      "|            9|   200025|      Zia Jacobs|            1|   142-2259 Eros. St.|      NIMES|LANGUEDOC-ROUSSILLON|     73940| 04 06 38 68 77|\n",
      "|           10|   200083|      Elmo Cross|            1|        1080 Dui, St.|   GRENOBLE|         RHONE-ALPES|     83608| 01 44 53 77 56|\n",
      "|           11|   200049|Cherokee Richard|            5| Ap #381-3851 Eget...|      PARIS|       ILE-DE-FRANCE|     72816| 01 33 96 49 60|\n",
      "|           12|   200078|      Eve Coffey|            5|  328-4434 Nec Avenue|       CAEN|     BASSE-NORMANDIE|     94198| 04 73 32 75 53|\n",
      "|           13|   200093|  Palmer Simpson|            2|    3966 Donec Street|      DIJON|           BOURGOGNE|     73506| 05 58 68 70 12|\n",
      "|           14|   200055|   Vernon George|            2| 164-9024 Mollis S...|       METZ|            LORRAINE|     77588| 01 86 75 94 18|\n",
      "|           15|   200071|   Octavia Blair|            5| P.O. Box 237, 257...|      PARIS|       ILE-DE-FRANCE|     79555| 08 03 10 94 17|\n",
      "|           16|   200023|    Akeem Guerra|            1| Ap #586-1460 Temp...|       LYON|         RHONE-ALPES|     68382| 01 63 70 67 55|\n",
      "|           17|   200070|  Stacey Solomon|            4| P.O. Box 643, 497...|       CAEN|     BASSE-NORMANDIE|     77610| 07 82 17 55 75|\n",
      "|           18|   200026| Shoshana Tanner|            2|      126-1135 Id Rd.|      TOURS|              CENTRE|     75729| 08 43 18 18 46|\n",
      "|           19|   200075|  Chelsea Nguyen|            2|      326-6500 A Road|      TOURS|              CENTRE|     68375| 06 27 14 55 56|\n",
      "|           20|   200069|     Rina Malone|            1| 565-9093 Tellus, Av.|      TOURS|              CENTRE|     64702| 01 77 01 21 34|\n",
      "+-------------+---------+----------------+-------------+---------------------+-----------+--------------------+----------+---------------+\n",
      "only showing top 20 rows\n",
      "\n",
      "+-----------+----+-------+-----+-----------+---------+\n",
      "|TIME_DIM_ID|YEAR|QUARTER|MONTH|DAY_OF_WEEK|     Date|\n",
      "+-----------+----+-------+-----+-----------+---------+\n",
      "|          1|2011|      3|    8|          1|28-Aug-11|\n",
      "|          2|2012|      1|    2|          2|20-Feb-12|\n",
      "|          3|2012|      3|    7|          1|22-Jul-12|\n",
      "|          4|2012|      3|    7|          1|29-Jul-12|\n",
      "|          5|2012|      4|   10|          3|23-Oct-12|\n",
      "|          6|2013|      2|    6|          4|12-Jun-13|\n",
      "|          7|2011|      2|    5|          7|28-May-11|\n",
      "|          8|2012|      3|    9|          3|11-Sep-12|\n",
      "|          9|2012|      4|   11|          6|02-Nov-12|\n",
      "|         10|2013|      1|    2|          5|14-Feb-13|\n",
      "|         11|2013|      3|    8|          1|18-Aug-13|\n",
      "|         12|2011|      4|   11|          2|21-Nov-11|\n",
      "|         13|2013|      1|    2|          3|12-Feb-13|\n",
      "|         14|2011|      3|    8|          5|18-Aug-11|\n",
      "|         15|2012|      3|    8|          5|30-Aug-12|\n",
      "|         16|2013|      1|    3|          6|22-Mar-13|\n",
      "|         17|2013|      1|    3|          3|26-Mar-13|\n",
      "|         18|2012|      2|    5|          1|06-May-12|\n",
      "|         19|2012|      3|    9|          5|13-Sep-12|\n",
      "|         20|2012|      3|    9|          2|17-Sep-12|\n",
      "+-----------+----+-------+-----+-----------+---------+\n",
      "only showing top 20 rows\n",
      "\n",
      "+------------------+--------------+----------------+------------------+----------------+-------------+-------------+-------------+\n",
      "|TRANSACTION_DIM_ID|TRANSACTION_ID|TRANSACTION_DATE|TRANSACTION_AMOUNT|TRANSACTION_TYPE|DISPATCH_DATE|EXPECTED_DATE|DELIVERY_DATE|\n",
      "+------------------+--------------+----------------+------------------+----------------+-------------+-------------+-------------+\n",
      "|                 1|          5223|       12-Aug-11|              1900|             COD|    13-Aug-11|    16-Aug-11|    16-Aug-11|\n",
      "|                 2|          5330|       27-Nov-11|              2100|     NET BANKING|    28-Nov-11|    01-Dec-11|    01-Dec-11|\n",
      "|                 3|          5341|       08-Dec-11|              1800|     CREDIT CARD|    09-Dec-11|    12-Dec-11|    12-Dec-11|\n",
      "|                 4|          5741|       11-Jan-13|               600|             COD|    12-Jan-13|    15-Jan-13|    15-Jan-13|\n",
      "|                 5|          5860|       11-May-13|              8500|          PAYPAL|    11-May-13|    14-May-13|    14-May-13|\n",
      "|                 6|          5995|       22-Sep-13|             16000|             COD|    23-Sep-13|    26-Sep-13|    27-Sep-13|\n",
      "|                 7|          5440|       15-Mar-12|             30000|     NET BANKING|    17-Mar-12|    20-Mar-12|    20-Mar-12|\n",
      "|                 8|          5465|       10-Apr-12|              1600|          PAYPAL|    11-Apr-12|    14-Apr-12|    14-Apr-12|\n",
      "|                 9|          5472|       17-Apr-12|               650|     CREDIT CARD|    18-Apr-12|    21-Apr-12|    21-Apr-12|\n",
      "|                10|          5542|       26-Jun-12|              4800|      DEBIT CARD|    27-Jun-12|    30-Jun-12|    30-Jun-12|\n",
      "|                11|          5974|       01-Sep-13|               350|     NET BANKING|    02-Sep-13|    05-Sep-13|    05-Sep-13|\n",
      "|                12|          5284|       12-Oct-11|              2300|     CREDIT CARD|    13-Oct-11|    16-Oct-11|    16-Oct-11|\n",
      "|                13|          5331|       28-Nov-11|              3800|     CREDIT CARD|    29-Nov-11|    02-Dec-11|    02-Dec-11|\n",
      "|                14|          5500|       15-May-12|              3800|     CREDIT CARD|    16-May-12|    19-May-12|    19-May-12|\n",
      "|                15|          5584|       07-Aug-12|              2000|     NET BANKING|    08-Aug-12|    11-Aug-12|    11-Aug-12|\n",
      "|                16|          5376|       12-Jan-12|              2450|          PAYPAL|    13-Jan-12|    16-Jan-12|    16-Jan-12|\n",
      "|                17|          5749|       19-Jan-13|              1600|          PAYPAL|    20-Jan-13|    23-Jan-13|    23-Jan-13|\n",
      "|                18|          5090|       01-Apr-11|              2900|             COD|    02-Apr-11|    05-Apr-11|    05-Apr-11|\n",
      "|                19|          5367|       03-Jan-12|              4400|     CREDIT CARD|    04-Jan-12|    07-Jan-12|    07-Jan-12|\n",
      "|                20|          5511|       26-May-12|             40500|          PAYPAL|    27-May-12|    30-May-12|    31-May-12|\n",
      "+------------------+--------------+----------------+------------------+----------------+-------------+-------------+-------------+\n",
      "only showing top 20 rows\n",
      "\n",
      "+-------+-----------+--------------+----------+-----------+---------+------------------+---------------------+\n",
      "|FACT_ID|TIME_DIM_ID|TRANSACTION_ID|PRODUCT_ID|CUSTOMER_ID|SELLER_ID|PRODUCT_COST_PRICE|PRODUCT_SELLING_PRICE|\n",
      "+-------+-----------+--------------+----------+-----------+---------+------------------+---------------------+\n",
      "|      1|        917|          5282|      3026|     100098|   200071|             38000|              41000.0|\n",
      "|      2|        278|          5303|      3058|     100031|   200043|              1200|               1100.0|\n",
      "|      3|        794|          5582|      3080|     100025|   200003|              1900|               2000.0|\n",
      "|      4|        683|          5031|      3093|     100021|   200019|             47000|              52000.0|\n",
      "|      5|        829|          5676|      3003|     100011|   200042|              6500|               6750.0|\n",
      "|      6|        163|          5252|      3024|     100079|   200096|              6000|               6200.0|\n",
      "|      7|        324|          5536|      3026|     100001|   200095|             38000|              41000.0|\n",
      "|      8|        994|          5724|      3094|     100092|   200019|               560|                750.0|\n",
      "|      9|        692|          5888|      3053|     100052|   200090|              1400|               1350.0|\n",
      "|     10|        552|          5927|      3034|     100015|   200097|              1600|               1800.0|\n",
      "|     11|        716|          5083|      3030|     100087|   200077|             16000|              18000.0|\n",
      "|     12|        924|          5122|      3006|     100044|   200068|             13000|              13000.0|\n",
      "|     13|        451|          5473|      3095|     100043|   200073|              1800|               1950.0|\n",
      "|     14|        617|          5502|      3099|     100009|   200095|              8000|               8000.0|\n",
      "|     15|        659|          5521|      3054|     100017|   200075|               400|                600.0|\n",
      "|     16|        494|          5321|      3020|     100090|   200057|               800|                900.0|\n",
      "|     17|        427|          5452|      3007|     100015|   200070|             40100|              40500.0|\n",
      "|     18|        643|          5051|      3094|     100073|   200009|               560|                750.0|\n",
      "|     19|        185|          5106|      3024|     100024|   200002|              6000|               6200.0|\n",
      "|     20|        251|          5156|      3027|     100083|   200031|               500|                650.0|\n",
      "+-------+-----------+--------------+----------+-----------+---------+------------------+---------------------+\n",
      "only showing top 20 rows\n",
      "\n"
     ]
    }
   ],
   "source": [
    "# just checking \n",
    "\n",
    "customers_dim.show()\n",
    "products_dim.show()\n",
    "sellers_dim.show()\n",
    "time_dim.show()\n",
    "transaction_dim.show()\n",
    "inventory_fact.show()"
   ]
  },
  {
   "cell_type": "code",
   "execution_count": 74,
   "id": "c6da52cc-2a3a-47e7-976a-67bdf6cb41b0",
   "metadata": {},
   "outputs": [],
   "source": [
    "# transaction_dim.withColumn('sa', transaction_dim.PRODUCT_SELLING_PRICE).show()\n",
    "\n",
    "# inventory_fact.withColumn('sa', inventory_fact.PRODUCT_SELLING_PRICE+2).show()\n",
    "\n"
   ]
  },
  {
   "cell_type": "code",
   "execution_count": 55,
   "id": "ee1376b2-2ba6-431d-986f-98e3305cf9e7",
   "metadata": {},
   "outputs": [],
   "source": [
    "\n",
    "\n",
    "# Report 1: Transaction Amount Wise Top 10 Customers\n",
    "top_10_customers = inventory_fact.join(customers_dim, \"CUSTOMER_ID\") \\\n",
    "    .join(time_dim, \"TIME_DIM_ID\") \\\n",
    "    .join(transaction_dim, \"TRANSACTION_ID\")\\\n",
    "    .where(col(\"YEAR\") == 2011) \\\n",
    "    .groupBy(\"YEAR\", \"Customer Name\",customers_dim.CUSTOMER_ID ) \\\n",
    "   .agg(sum(\"TRANSACTION_AMOUNT\").alias(\"TOTAL_SELLING_PRICE\")) \\\n",
    "    .orderBy(\"TOTAL_SELLING_PRICE\",ascending = False) \\\n",
    "    .limit(10)\n"
   ]
  },
  {
   "cell_type": "code",
   "execution_count": 75,
   "id": "c121698b-4560-45d8-8184-1d69462ab23e",
   "metadata": {},
   "outputs": [
    {
     "name": "stdout",
     "output_type": "stream",
     "text": [
      "+----+----------------+-----------+-------------------+\n",
      "|YEAR|   Customer Name|CUSTOMER_ID|TOTAL_SELLING_PRICE|\n",
      "+----+----------------+-----------+-------------------+\n",
      "|2011|   Angelica Lamb|     100022|             176500|\n",
      "|2011| Danielle Wilcox|     100083|             125450|\n",
      "|2011|     Ifeoma Hale|     100017|             117300|\n",
      "|2011|  Adena Carrillo|     100038|             106450|\n",
      "|2011|Katelyn Garrison|     100059|             103550|\n",
      "|2011|  Odette Patrick|     100011|             101000|\n",
      "|2011| Debra Mcpherson|     100025|              89750|\n",
      "|2011|  Claudia Carter|     100094|              89600|\n",
      "|2011|     Echo Spence|     100079|              83600|\n",
      "|2011|    Carly Parker|     100074|              82250|\n",
      "+----+----------------+-----------+-------------------+\n",
      "\n"
     ]
    }
   ],
   "source": [
    "top_10_customers.show()\n",
    "\n",
    "top_10_customers.toPandas().to_csv(f\"{output_dir}/top_10_customers.csv\")\n"
   ]
  },
  {
   "cell_type": "code",
   "execution_count": 57,
   "id": "a13ecb74-876a-411f-92fd-d26949c37b3f",
   "metadata": {},
   "outputs": [],
   "source": [
    "# Report 2: State wise number of orders\n",
    "statewise_orders = inventory_fact.join(customers_dim, \"CUSTOMER_ID\") \\\n",
    "    .groupBy(upper(col(\"CUSTOMER_STATE\")).alias(\"CUSTOMER_STATE\")) \\\n",
    "    .agg(count(\"TRANSACTION_ID\").alias(\"ORDER_COUNT\")) \\\n",
    "    .orderBy(col(\"CUSTOMER_STATE\"),ascending = True)"
   ]
  },
  {
   "cell_type": "code",
   "execution_count": 76,
   "id": "c85e88ef-8266-40d3-8ed7-9103334bb0bd",
   "metadata": {},
   "outputs": [
    {
     "name": "stdout",
     "output_type": "stream",
     "text": [
      "+--------------------+-----------+\n",
      "|      CUSTOMER_STATE|ORDER_COUNT|\n",
      "+--------------------+-----------+\n",
      "|             ARIZONA|         78|\n",
      "|          CALIFORNIA|        295|\n",
      "|DISTRICT OF COLUMBIA|         44|\n",
      "|            ILLINOIS|         64|\n",
      "|      MASSAACHUSETTS|         72|\n",
      "|             NEWYORK|         51|\n",
      "|                OHIO|        101|\n",
      "|        PENNSYLVANIA|         62|\n",
      "|               TEXAS|        233|\n",
      "+--------------------+-----------+\n",
      "\n"
     ]
    }
   ],
   "source": [
    "statewise_orders.show()\n",
    "\n",
    "statewise_orders.toPandas().to_csv(f\"{output_dir}/statewise_orders.csv\")"
   ]
  },
  {
   "cell_type": "code",
   "execution_count": 59,
   "id": "f8e6cbd9-5e99-449d-bc16-6ab80e06d68c",
   "metadata": {},
   "outputs": [],
   "source": [
    "# Report 3: Preferred mode of payment across states\n",
    "payment_mode_by_state = inventory_fact.join(transaction_dim, \"TRANSACTION_ID\") \\\n",
    "    .groupBy(\"TRANSACTION_TYPE\") \\\n",
    "    .agg(count(\"TRANSACTION_ID\").alias(\"ORDER_COUNT\")) \\\n",
    "    .orderBy(col(\"ORDER_COUNT\") , ascending = True)\n"
   ]
  },
  {
   "cell_type": "code",
   "execution_count": 77,
   "id": "9a6066a0-3895-429b-8b2f-9de2dad2d838",
   "metadata": {},
   "outputs": [
    {
     "name": "stdout",
     "output_type": "stream",
     "text": [
      "+----------------+-----------+\n",
      "|TRANSACTION_TYPE|ORDER_COUNT|\n",
      "+----------------+-----------+\n",
      "|     CREDIT CARD|        108|\n",
      "|      DEBIT CARD|        178|\n",
      "|          PAYPAL|        199|\n",
      "|             COD|        248|\n",
      "|     NET BANKING|        267|\n",
      "+----------------+-----------+\n",
      "\n"
     ]
    }
   ],
   "source": [
    "payment_mode_by_state.show()\n",
    "\n",
    "payment_mode_by_state.toPandas().to_csv(f\"{output_dir}/payment_mode_by_state.csv\")"
   ]
  },
  {
   "cell_type": "code",
   "execution_count": 61,
   "id": "19110b64-f1ad-43ab-b7dc-583d8b769a7a",
   "metadata": {},
   "outputs": [],
   "source": [
    "# Report 4: Quarterly profit for a particular year\n",
    "# Profit = PRODUCT_SELLING_PRICE - PRODUCT_COST_PRICE\n",
    "\n",
    "year_filter = 2011  #  desired year\n",
    "\n",
    "# we are using group by \"YEAR\" because we want year in our output\n",
    "\n",
    "quarterly_profit = inventory_fact.join(time_dim, \"TIME_DIM_ID\") \\\n",
    "    .filter(col(\"YEAR\") == year_filter) \\\n",
    "    .groupBy(\"YEAR\", \"QUARTER\") \\\n",
    "    .agg(sum(col(\"PRODUCT_SELLING_PRICE\") - col(\"PRODUCT_COST_PRICE\")).cast(\"int\").alias(\"PROFIT\")) \\\n",
    "    .orderBy(\"QUARTER\")"
   ]
  },
  {
   "cell_type": "code",
   "execution_count": 78,
   "id": "ca764645-8f5f-4ba8-9059-334e376c3b38",
   "metadata": {},
   "outputs": [
    {
     "name": "stdout",
     "output_type": "stream",
     "text": [
      "+----+-------+------+\n",
      "|YEAR|QUARTER|PROFIT|\n",
      "+----+-------+------+\n",
      "|2011|      1| 47030|\n",
      "|2011|      2| 42941|\n",
      "|2011|      3| 42572|\n",
      "|2011|      4| 37421|\n",
      "+----+-------+------+\n",
      "\n"
     ]
    }
   ],
   "source": [
    "quarterly_profit.show()\n",
    "\n",
    "quarterly_profit.toPandas().to_csv(f\"{output_dir}/quarterly_profit.csv\")"
   ]
  },
  {
   "cell_type": "code",
   "execution_count": null,
   "id": "68c42b25-fa50-40ac-8b6e-6d46c761156a",
   "metadata": {},
   "outputs": [],
   "source": [
    "#updating the product table ( as we have multiple data for "
   ]
  },
  {
   "cell_type": "code",
   "execution_count": 63,
   "id": "451c2170-0f8c-40e9-b866-f4e8db612101",
   "metadata": {},
   "outputs": [
    {
     "name": "stdin",
     "output_type": "stream",
     "text": [
      "enter the year 2011\n"
     ]
    }
   ],
   "source": [
    "# Report 5: Quarterly sales count of each product category\n",
    "\n",
    "# filtering for required year\n",
    "\n",
    "\n",
    "year_filter = int(input(\"enter the year\"))\n",
    "\n",
    "quarterly_sales_count = inventory_fact.join(time_dim, \"TIME_DIM_ID\") \\\n",
    "    .join(products_dim, \"PRODUCT_ID\") \\\n",
    "    .filter(col(\"YEAR\") == year_filter)\\\n",
    "    .filter(col(\"CATEGORY_ID\") == 4005) \\\n",
    "    .groupBy(\"YEAR\", \"QUARTER\", \"CATEGORY_ID\", \"PRODUCT Name\") \\\n",
    "    .agg(count(\"TRANSACTION_ID\").alias(\"SALES_COUNT\")) \\\n",
    "    .orderBy(\"YEAR\", \"QUARTER\", \"CATEGORY_ID\")\n"
   ]
  },
  {
   "cell_type": "code",
   "execution_count": 79,
   "id": "b9d958af-8400-4f47-961d-be5c963518e2",
   "metadata": {},
   "outputs": [
    {
     "name": "stdout",
     "output_type": "stream",
     "text": [
      "+----+-------+-----------+------------+-----------+\n",
      "|YEAR|QUARTER|CATEGORY_ID|PRODUCT Name|SALES_COUNT|\n",
      "+----+-------+-----------+------------+-----------+\n",
      "|2011|      1|       4005|      LAPTOP|         13|\n",
      "|2011|      2|       4005|      LAPTOP|         13|\n",
      "|2011|      3|       4005|      LAPTOP|         11|\n",
      "|2011|      4|       4005|      LAPTOP|         13|\n",
      "+----+-------+-----------+------------+-----------+\n",
      "\n"
     ]
    }
   ],
   "source": [
    "quarterly_sales_count.show()\n",
    "\n",
    "quarterly_sales_count.toPandas().to_csv(f\"{output_dir}/quarterly_sales_count.csv\")"
   ]
  },
  {
   "cell_type": "code",
   "execution_count": 1,
   "id": "c1568e88-004b-437c-b1ac-da098f92261f",
   "metadata": {
    "ExecuteTime": {
     "end_time": "2024-10-08T06:15:03.005840Z",
     "start_time": "2024-10-08T06:15:02.993284Z"
    }
   },
   "outputs": [
    {
     "name": "stdout",
     "output_type": "stream",
     "text": [
      "sdfa\n"
     ]
    }
   ],
   "source": [
    "print(\"sdfa\")"
   ]
  }
 ],
 "metadata": {
  "kernelspec": {
   "display_name": "Python 3 (ipykernel)",
   "language": "python",
   "name": "python3"
  },
  "language_info": {
   "codemirror_mode": {
    "name": "ipython",
    "version": 3
   },
   "file_extension": ".py",
   "mimetype": "text/x-python",
   "name": "python",
   "nbconvert_exporter": "python",
   "pygments_lexer": "ipython3",
   "version": "3.11.4"
  }
 },
 "nbformat": 4,
 "nbformat_minor": 5
}
